{
 "cells": [
  {
   "cell_type": "code",
   "execution_count": 16,
   "metadata": {},
   "outputs": [
    {
     "data": {
      "text/plain": [
       "2439856.9975"
      ]
     },
     "execution_count": 16,
     "metadata": {},
     "output_type": "execute_result"
    }
   ],
   "source": [
    "import lbr.velocity as v\n",
    "v.julda(1968)"
   ]
  },
  {
   "cell_type": "code",
   "execution_count": 37,
   "metadata": {},
   "outputs": [
    {
     "name": "stdout",
     "output_type": "stream",
     "text": [
      "23h23m24s +58d48m54s\n"
     ]
    }
   ],
   "source": [
    "from astropy import units as u\n",
    "from astropy.coordinates import SkyCoord\n",
    "from astropy.coordinates import EarthLocation\n",
    "from astropy.time import Time\n",
    "\n",
    "casA = SkyCoord('23 23 24 +58 48.9', unit=(u.hourangle, u.deg))\n",
    "print(casA.to_string('hmsdms'))\n",
    "\n",
    "#casA_from_inet = SkyCoord.from_name(\"3c461\")  \n",
    "#print(casA_from_inet.to_string('hmsdms'))"
   ]
  },
  {
   "cell_type": "code",
   "execution_count": 42,
   "metadata": {},
   "outputs": [
    {
     "data": {
      "text/latex": [
       "$5250.2801 \\; \\mathrm{\\frac{m}{s}}$"
      ],
      "text/plain": [
       "<Quantity 5250.28005714 m / s>"
      ]
     },
     "execution_count": 42,
     "metadata": {},
     "output_type": "execute_result"
    }
   ],
   "source": [
    "utr2 = EarthLocation.from_geodetic('49 38 17','36 56 29')\n",
    "obstime = Time('2005-5-6')\n",
    "\n",
    "vlsr = casA.radial_velocity_correction(obstime=obstime, location=utr2) #.to('km/s')  \n",
    "vlsr"
   ]
  },
  {
   "cell_type": "code",
   "execution_count": null,
   "metadata": {},
   "outputs": [],
   "source": [
    "\n"
   ]
  },
  {
   "cell_type": "code",
   "execution_count": null,
   "metadata": {},
   "outputs": [],
   "source": []
  }
 ],
 "metadata": {
  "kernelspec": {
   "display_name": "Python 3",
   "language": "python",
   "name": "python3"
  },
  "language_info": {
   "codemirror_mode": {
    "name": "ipython",
    "version": 3
   },
   "file_extension": ".py",
   "mimetype": "text/x-python",
   "name": "python",
   "nbconvert_exporter": "python",
   "pygments_lexer": "ipython3",
   "version": "3.8.3"
  }
 },
 "nbformat": 4,
 "nbformat_minor": 4
}
