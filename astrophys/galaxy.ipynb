{
 "cells": [
  {
   "cell_type": "code",
   "execution_count": 1,
   "metadata": {},
   "outputs": [],
   "source": [
    "import matplotlib.pyplot as plt\n",
    "%matplotlib inline\n",
    "\n",
    "from math import sin\n",
    "from math import cos\n",
    "from math import sqrt\n",
    "from math import pi"
   ]
  },
  {
   "cell_type": "code",
   "execution_count": 2,
   "metadata": {},
   "outputs": [
    {
     "data": {
      "image/png": "[encoded data removed]",
      "text/plain": [
       "<Figure size 432x288 with 1 Axes>"
      ]
     },
     "metadata": {
      "needs_background": "light"
     },
     "output_type": "display_data"
    }
   ],
   "source": [
    "R0 = 10  #кпс\n",
    "Q = 250  #км/c\n",
    "r = 5\n",
    "\n",
    "for l in range(0,190,10):\n",
    "    x = r*cos((l-90)*pi/180)\n",
    "    y = r*sin((l-90)*pi/180)\n",
    "    R = sqrt(x*x+(y+R0)*(y+R0));\n",
    "    \n",
    "    fun = 250 + 4.05*(10-R)-1.62*(10-R)*(10-R);\n",
    "    fy =  (fun*R0/R-Q)*sin(l*pi/180);\n",
    "    \n",
    "    plt.scatter(l,fy,color=\"blue\",marker='s')"
   ]
  },
  {
   "cell_type": "code",
   "execution_count": null,
   "metadata": {},
   "outputs": [],
   "source": []
  },
  {
   "cell_type": "code",
   "execution_count": 3,
   "metadata": {},
   "outputs": [],
   "source": [
    "import time\n",
    "\n",
    "def F_sun_vel(ra,dec,a,d,S_vel):\n",
    "    \"\"\"\n",
    "        in:\n",
    "          ra, dec - rad\n",
    "          a,d - градусы\n",
    "          S_vel - km/s           \n",
    "        out:\n",
    "          F_sun_vel - km/s\n",
    "          Lang, 1980, p. 564, eq. 5-130 \n",
    "    \"\"\"    \n",
    "    \n",
    "    aa = a * (2*pi/360)  # ra_apeks (rad)\n",
    "    da = d * (2*pi/360)  # dec_apeks (rad)\n",
    "    \n",
    "    return S_vel*(cos(aa)*cos(da)*cos(ra)*cos(dec)+\n",
    "                  sin(aa)*cos(da)*sin(ra)*cos(dec)+\n",
    "                  sin(da)*sin(dec))\n",
    "\n",
    "\n",
    "def F_earth_vel(ra,dec,t):\n",
    "    \"\"\"\n",
    "        in:\n",
    "          ra, dec - rad\n",
    "          t - time\n",
    "          out:\n",
    "          F_earth_vel - km/s\n",
    "    \"\"\"\n",
    "    \n",
    "    # https://nssdc.gsfc.nasa.gov/planetary/factsheet/earthfact.html\n",
    "    \n",
    "    e = 0.01671022 # Orbital eccentricity\n",
    "    v = 29.78   # average orbital speed km/s\n",
    "    \n",
    "    year = time.localtime(t).tm_year\n",
    "    day =  time.localtime(t).tm_yday #порядковый номер дня наблюдений\n",
    "    \n",
    "    if day>80:\n",
    "        day = day - 80\n",
    "    else:\n",
    "        day = 365 - 80 + day\n",
    "\n",
    "    day_rad = ((2*pi)/365.25)*day    #долгота Солнца\n",
    "\n",
    "    T = (year-2000 + day*1./365 )*1./100\n",
    "    gamma = (1018578.046 + 6190.046*T + 1.666*T*T + 0.012*T*T*T )/3600  # degree\n",
    "    gamma = (2*pi/360)*gamma # rad\n",
    "\n",
    "    naklon = ( 23*3600+26*60+19.81 - 0.47*(year-2000) )/3600 #degree\n",
    "    naklon = (2*pi/360)*naklon #rad\n",
    "\n",
    "    v_earth_1 = -v*(sin(day_rad)*cos(dec)*cos(ra) - \n",
    "                    cos(day_rad)*(cos(dec)*sin(ra)*cos(naklon) + \n",
    "                                  sin(dec)*sin(naklon))) \n",
    "    v_earth_2 = v*e*(sin(gamma)*cos(dec)*cos(ra) -\n",
    "                     cos(gamma)*(cos(dec)*sin(ra)*cos(naklon) +\n",
    "                                 sin(dec)*sin(naklon)))  # km/s\n",
    "    return v_earth_1 + v_earth_2\n"
   ]
  },
  {
   "cell_type": "code",
   "execution_count": 4,
   "metadata": {},
   "outputs": [
    {
     "name": "stdout",
     "output_type": "stream",
     "text": [
      "frequency = 25330000.0\n",
      "v_sun =   4.8724  км/с  f_sun = 411.6741 Гц\n",
      "v_earth =   0.2685  км/с  f_earth = -22.6853 Гц\n",
      "Dopler shift = 388.9888 Гц\n",
      "Скорость Солнца = 19.7 км/с, эпоха 2000, Аппекс (ra,dec)=(271.6,29.2)\n"
     ]
    }
   ],
   "source": [
    "from scipy.constants import speed_of_light # in vacuum  299792458.0 m s^-1\n",
    "#import time\n",
    "\n",
    "#apeks  {year: [aapeks,dapeks]}\n",
    "# координаты апекса для разных эпох взяты из Крауса (с. 51)\n",
    "apeks = {\"2000\":[271.6,29.2],\n",
    "         \"1950\":[271.1,29.2],\n",
    "         \"1900\":[270.6,29.2]}\n",
    "\n",
    "#Скорость Солнца\n",
    "\n",
    "S_vel = (19.5, # скорость взята из Ленга (ч.II, c.250))\n",
    "               # Lang, 1980, p. 554, eq. 5-9 \n",
    "         19.7) # скорость взята из Крауса (с. 51)\n",
    "\n",
    "\n",
    "Fr = 25.330e6\n",
    "y = '2000'\n",
    "aapeks = apeks[y][0]\n",
    "dapeks = apeks[y][1]\n",
    "\n",
    "\"\"\"\n",
    "3c461\n",
    "23 23 24 +58 48.9\n",
    "23 21 08 +58 32.4\n",
    "\"\"\"\n",
    "ra = (23 + 21.0/60 + 8.0*3600)*pi/180\n",
    "dec  = (58 + 32.4/60)*pi/180\n",
    "\n",
    "#CasA ew 23:00  d_2005_5_6_casa.001\n",
    "obs_time = time.mktime((2005,5,6,23,0,0,0,0,0))\n",
    "\n",
    "print(f'frequency = {Fr}')\n",
    "\n",
    "v_sun = F_sun_vel(ra,dec,aapeks,dapeks,S_vel[1])\n",
    "f_sun = v_sun*1000*Fr/speed_of_light\n",
    "\n",
    "print(f'v_sun = {v_sun:8.4f}  км/с  f_sun = {f_sun:8.4f} Гц')\n",
    "\n",
    "v_earth = F_earth_vel(ra,dec,obs_time)\n",
    "f_earth = -v_earth*1000*Fr/speed_of_light\n",
    "\n",
    "print(f'v_earth = {v_earth:8.4f}  км/с  f_earth = {f_earth:8.4f} Гц')\n",
    "\n",
    "print(f'Dopler shift = {f_sun+f_earth:8.4f} Гц')\n",
    "\n",
    "print(f'Скорость Солнца = {S_vel[1]:4.1f} км/с, эпоха {y}, Аппекс (ra,dec)=({aapeks:4.1f},{dapeks:4.1f})')"
   ]
  },
  {
   "cell_type": "code",
   "execution_count": 5,
   "metadata": {},
   "outputs": [
    {
     "name": "stdout",
     "output_type": "stream",
     "text": [
      "n = 638  f = 25275689.125    F = 25330000.0\n"
     ]
    }
   ],
   "source": [
    "# from math import pow\n",
    "def carbonrrlfreq(nn,dn,flag):\n",
    "    \"\"\"\n",
    "    если flag=1 вычисляет частоты РРЛ используя формулу Ридберга,\n",
    "    если flag=2 вычисляет расстояние между соседними РРЛ.\n",
    "    nn - главное квантовое число, функция возвращает значение частоты в Гц\n",
    "    \n",
    "    если flag=0 вычисляет приближенное значение главного квантового числа\n",
    "    nn - частота в Гц, функция возвращает номер ближайшего \"слева\" главного квантового числа\n",
    "    \n",
    "    \"\"\"\n",
    "\n",
    "    light_vel = 2.99792458e+10   #скорость света в [cм/с]\n",
    "    electronmass = 9.10938188e-28  #масса электрона [г]\n",
    "    #protonmass = 1.67265e-24     #масса протона  [г] \n",
    "    #neutronmass = 1.67492728e-24 #масса нейтрона [г]\n",
    "    aemass = 1.66057e-24      #атомная единица массы [г]\n",
    "    rydberg = 109737.31568525 #постоянная Ридберга [cм-1]\n",
    "    \n",
    "    \n",
    "    Z = 1    # заряд ядра углерода\n",
    "    aem = 12 # атомная масса ядра углерода\n",
    "    M = aemass*aem;  #масса атомного ядра углерода  (книга Сороченко)\n",
    "    #M = 4*protonmass + (aem - 4)*neutronmass; //верно для Углерода, но Сороченко использовал предъидущую формулу\n",
    "    carbon_rydberg = rydberg*(1-electronmass/M);\n",
    "\n",
    "    switcher = { \n",
    "        0: (int)(pow(2*carbon_rydberg*Z*Z*light_vel*dn/(nn),1./3)), \n",
    "        1: Z*Z*light_vel*carbon_rydberg*(1./(nn*nn)-1./((nn+dn)*(nn+dn))), \n",
    "        2: 6*Z*Z*light_vel*carbon_rydberg*dn/pow(nn,4), \n",
    "    } \n",
    "    return switcher.get(flag, -1) \n",
    "    \n",
    "    \"\"\"\n",
    "      switch (flag) {\n",
    "         case 0: retvalue = (int)pow(2*carbon_rydberg*Z*Z*light_vel*dn/(nn*1.e3),1./3);break;\n",
    "         case 1: retvalue = 1.e-3*Z*Z*light_vel*carbon_rydberg*(1./(nn*nn)-1./((nn+dn)*(nn+dn)));break;\n",
    "         case 2: retvalue = 1.e-3*6*Z*Z*light_vel*carbon_rydberg*dn/pow(n,4);break;\n",
    "         default : retvalue = -1;\n",
    "      }\n",
    "      return retvalue;\n",
    "    \"\"\"\n",
    "    \n",
    "nst = carbonrrlfreq(Fr,1,0)\n",
    "fr = carbonrrlfreq(nst,1,1)\n",
    "print(f'n = {nst}  f = {fr:0.3f}    F = {Fr}')\n"
   ]
  },
  {
   "cell_type": "code",
   "execution_count": 6,
   "metadata": {},
   "outputs": [
    {
     "data": {
      "text/plain": [
       "81"
      ]
     },
     "execution_count": 6,
     "metadata": {},
     "output_type": "execute_result"
    }
   ],
   "source": [
    "time.localtime(time.mktime((2008,3,21,23,0,0,0,0,0))).tm_yday "
   ]
  }
 ],
 "metadata": {
  "kernelspec": {
   "display_name": "Python 3",
   "language": "python",
   "name": "python3"
  },
  "language_info": {
   "codemirror_mode": {
    "name": "ipython",
    "version": 3
   },
   "file_extension": ".py",
   "mimetype": "text/x-python",
   "name": "python",
   "nbconvert_exporter": "python",
   "pygments_lexer": "ipython3",
   "version": "3.8.3"
  }
 },
 "nbformat": 4,
 "nbformat_minor": 4
}
