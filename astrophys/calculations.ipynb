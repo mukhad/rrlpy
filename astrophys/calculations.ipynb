{
 "cells": [
  {
   "cell_type": "code",
   "execution_count": 35,
   "metadata": {},
   "outputs": [
    {
     "name": "stdout",
     "output_type": "stream",
     "text": [
      "2.99792458e+08 speed of light in vacuum\n",
      "1.602176634e-19  elementary charge\n",
      "9.1093837015e-31 electron mass\n",
      "1.67262192369e-27 proton mass\n",
      "8.8541878128e-12  the electric constant (vacuum permittivity)\n",
      "f0 = 8.979*sqrt(Ne)\n",
      "Ne (8.000e+04 Hz) = 7.94e+01 cm-3\n",
      "fh = 1.40e+06\n"
     ]
    },
    {
     "data": {
      "text/plain": [
       "[<matplotlib.lines.Line2D at 0x124fec08>]"
      ]
     },
     "execution_count": 35,
     "metadata": {},
     "output_type": "execute_result"
    },
    {
     "data": {
      "image/png": "[encoded data removed]",
      "text/plain": [
       "<Figure size 432x288 with 1 Axes>"
      ]
     },
     "metadata": {
      "needs_background": "light"
     },
     "output_type": "display_data"
    }
   ],
   "source": [
    "#https://kpfu.ru/portal/docs/F188846854/ionosphere_vs.pdf\n",
    "\n",
    "from scipy.constants import e, c, pi, m_e, m_p, epsilon_0\n",
    "from math import sqrt\n",
    "import matplotlib.pyplot as plt \n",
    "%matplotlib inline\n",
    "\n",
    "print(f'{c:0.8e} speed of light in vacuum')\n",
    "print(f'{e}  elementary charge')\n",
    "print(f'{m_e} electron mass')\n",
    "print(f'{m_p} proton mass')\n",
    "print(f'{epsilon_0}  the electric constant (vacuum permittivity)') \n",
    "\n",
    "cnst = sqrt(e**2/(m_e*epsilon_0))/(2*pi)\n",
    "print(f'f0 = {cnst:0.3f}*sqrt(Ne)')\n",
    "\n",
    "#Определить электронную концентрацию для плазменной частоты\n",
    "ff = 80e3 #Hz\n",
    "Ne = pow(ff/cnst,2)*1e-6\n",
    "print(f'Ne ({ff:0.3e} Hz) = {Ne:0.2e} cm-3')\n",
    "\n",
    "#Построить график зависимость плазменной частоты от электронную концентрации\n",
    "f = list()\n",
    "n = list()\n",
    "for i in range(40,65):\n",
    "    nn = pow(10,0.1*i)\n",
    "    n.append(nn)\n",
    "    f.append(cnst*sqrt(nn*1e6))\n",
    "\n",
    "f = [i*1e-6 for i in f]\n",
    "    \n",
    "#гиромагнитная частота электронов в магнитном поле Земли   \n",
    "H0_cgs = 0.5 # Э  средняя напряжённости поля\n",
    "e_cgs = 4.80320427e-10\n",
    "c_cgs = c*100\n",
    "m_e_cgs = m_e * 1000\n",
    "fh = e_cgs*H0_cgs/(2*pi*m_e_cgs*c_cgs)\n",
    "print(f'fh = {fh:0.2e}')\n",
    "\n",
    "plt.xscale('log')\n",
    "plt.plot(n,f)\n",
    "            "
   ]
  },
  {
   "cell_type": "code",
   "execution_count": null,
   "metadata": {},
   "outputs": [],
   "source": []
  },
  {
   "cell_type": "code",
   "execution_count": null,
   "metadata": {},
   "outputs": [],
   "source": []
  },
  {
   "cell_type": "code",
   "execution_count": null,
   "metadata": {},
   "outputs": [],
   "source": []
  }
 ],
 "metadata": {
  "kernelspec": {
   "display_name": "Python 3",
   "language": "python",
   "name": "python3"
  },
  "language_info": {
   "codemirror_mode": {
    "name": "ipython",
    "version": 3
   },
   "file_extension": ".py",
   "mimetype": "text/x-python",
   "name": "python",
   "nbconvert_exporter": "python",
   "pygments_lexer": "ipython3",
   "version": "3.8.3"
  }
 },
 "nbformat": 4,
 "nbformat_minor": 4
}
